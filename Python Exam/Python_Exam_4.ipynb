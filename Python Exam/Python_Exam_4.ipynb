{
  "nbformat": 4,
  "nbformat_minor": 0,
  "metadata": {
    "colab": {
      "private_outputs": true,
      "provenance": []
    },
    "kernelspec": {
      "name": "python3",
      "display_name": "Python 3"
    },
    "language_info": {
      "name": "python"
    }
  },
  "cells": [
    {
      "cell_type": "markdown",
      "source": [
        "# ***Program 1***\n"
      ],
      "metadata": {
        "id": "2bVCtN0rS4nd"
      }
    },
    {
      "cell_type": "markdown",
      "source": [
        "1. Write a Python program to implement a simple feedforward artificial neural network (ANN) to predict a numeric target variable using a dataset of your choice. Train and evaluate the model, and display the accuracy of your predictions."
      ],
      "metadata": {
        "id": "NolMt-_yS_WW"
      }
    },
    {
      "cell_type": "code",
      "execution_count": null,
      "metadata": {
        "id": "SS5plO0zBeRg"
      },
      "outputs": [],
      "source": [
        "import numpy as np\n",
        "from sklearn.datasets import fetch_openml\n",
        "from sklearn.model_selection import train_test_split\n",
        "from sklearn.preprocessing import StandardScaler\n",
        "from sklearn.metrics import mean_squared_error\n",
        "from keras.models import Sequential\n",
        "from keras.layers import Dense, Input\n",
        "\n",
        "# Load the Boston housing dataset\n",
        "boston = fetch_openml(name=\"boston\", version=1, as_frame=True, parser='auto')\n",
        "\n",
        "# Extract features and target variable\n",
        "X = boston.data.to_numpy()  # Features\n",
        "y = boston.target.to_numpy()  # Target variable (house prices)\n",
        "\n",
        "# Split the dataset into training and testing sets\n",
        "X_train, X_test, y_train, y_test = train_test_split(X, y, test_size=0.2, random_state=42)\n",
        "\n",
        "# Standardize the features (mean=0, variance=1)\n",
        "scaler = StandardScaler()\n",
        "X_train_scaled = scaler.fit_transform(X_train)  # Fit on training data and transform it\n",
        "X_test_scaled = scaler.transform(X_test)  # Transform test data\n",
        "\n",
        "# Build the neural network model\n",
        "model = Sequential()\n",
        "model.add(Input(shape=(X_train_scaled.shape[1],)))  # Input layer specifying the input shape\n",
        "model.add(Dense(64, activation='relu'))  # Hidden layer with 64 neurons\n",
        "model.add(Dense(32, activation='relu'))  # Hidden layer with 32 neurons\n",
        "model.add(Dense(1))  # Output layer with 1 neuron (no activation for regression)\n",
        "\n",
        "# Compile the model\n",
        "model.compile(loss='mean_squared_error', optimizer='adam')  # Using MSE loss and Adam optimizer\n",
        "\n",
        "# Train the model\n",
        "model.fit(X_train_scaled, y_train, epochs=100, batch_size=32, verbose=0)  # Train for 100 epochs\n",
        "\n",
        "# Predict on the test set\n",
        "y_pred = model.predict(X_test_scaled)\n",
        "\n",
        "# Calculate mean squared error (MSE) as the evaluation metric\n",
        "mse = mean_squared_error(y_test, y_pred)\n",
        "print(\"Mean Squared Error:\", mse)"
      ]
    },
    {
      "cell_type": "markdown",
      "source": [
        "# **Program 2**"
      ],
      "metadata": {
        "id": "xbTSLH2LTMqW"
      }
    },
    {
      "cell_type": "markdown",
      "source": [
        "2. Develop a Python program that uses OpenCV and Keras/TensorFlow to detect objects in images. You can choose a specific object (e.g., faces or cars) and a pre-trained model (e.g., YOLO or SSD) to perform the detection. Display the results visually."
      ],
      "metadata": {
        "id": "EagtGBdTTP5m"
      }
    },
    {
      "cell_type": "code",
      "source": [
        "import cv2\n",
        "import numpy as np\n",
        "\n",
        "# Specify the paths to the YOLO configuration and weights files\n",
        "config_path = \"/content/yolov3.cfg\"  # Replace with the correct path to your yolov3.cfg\n",
        "weights_path = \"/content/yolov3.weights\"  # Replace with the correct path to your yolov3.weights\n",
        "names_path = \"/content/coco.names\"  # Replace with the correct path to your coco.names\n",
        "\n",
        "# Load YOLO network\n",
        "net = cv2.dnn.readNetFromDarknet('yolov3.cfg', 'yolov3.weights')\n",
        "\n",
        "# Load class names\n",
        "classes = []\n",
        "with open(names_path, \"r\") as f:\n",
        "    classes = [line.strip() for line in f.readlines()]\n",
        "\n",
        "# Example to ensure that the network and classes are loaded correctly\n",
        "print(\"YOLO network loaded successfully\")\n",
        "print(\"Classes loaded:\", classes)"
      ],
      "metadata": {
        "id": "56eDyLr-Bisk"
      },
      "execution_count": null,
      "outputs": []
    },
    {
      "cell_type": "markdown",
      "source": [
        "# **Program 3**"
      ],
      "metadata": {
        "id": "K8diuuGRTVjq"
      }
    },
    {
      "cell_type": "markdown",
      "source": [
        "3. Write a Python program that uses OpenCV to perform basic object detection in images. Detect a specific object (e.g., a red ball or a marker) in a set of images and draw bounding boxes around the detected objects. Visualize the results."
      ],
      "metadata": {
        "id": "ClWBD5AdTYd_"
      }
    },
    {
      "cell_type": "code",
      "source": [
        "import cv2\n",
        "from google.colab import drive\n",
        "import matplotlib.pyplot as plt\n",
        "\n",
        "# Mount Google Drive to access your image file\n",
        "#drive.mount('/content/gdrive')\n",
        "\n",
        "# Path to the image file\n",
        "img_path = '/content/IMG_9260.JPG'  # Replace with the correct path to your image\n",
        "\n",
        "# Load the image\n",
        "img = cv2.imread(img_path)\n",
        "\n",
        "# Check if the image was loaded successfully\n",
        "if img is None:\n",
        "    print(f\"Error: Unable to load image at {img_path}\")\n",
        "else:\n",
        "    # Convert image to grayscale\n",
        "    gray_img = cv2.cvtColor(img, cv2.COLOR_BGR2GRAY)\n",
        "\n",
        "    # Load the pre-trained Haar cascade classifier for face detection\n",
        "    face_cascade = cv2.CascadeClassifier(cv2.data.haarcascades + 'haarcascade_frontalface_default.xml')\n",
        "\n",
        "    # Detect faces in the image\n",
        "    faces = face_cascade.detectMultiScale(gray_img, scaleFactor=1.1, minSize=(30, 30))\n",
        "\n",
        "    # Draw rectangles around the detected faces\n",
        "    for (x, y, w, h) in faces:\n",
        "        cv2.rectangle(img, (x, y), (x+w, y+h), (0, 0, 255), 5)\n",
        "\n",
        "    # Display the output image\n",
        "    plt.imshow(cv2.cvtColor(img, cv2.COLOR_BGR2RGB))\n",
        "    plt.show()"
      ],
      "metadata": {
        "id": "SiLokD9USeck"
      },
      "execution_count": null,
      "outputs": []
    },
    {
      "cell_type": "markdown",
      "source": [
        "# **Program 4**"
      ],
      "metadata": {
        "id": "hfZW7J0ETcci"
      }
    },
    {
      "cell_type": "markdown",
      "source": [
        "4. Write the python program to convert colored image to grayscale and rotate it in clockwise 45 degrees using openCV"
      ],
      "metadata": {
        "id": "brss5jwtTkSz"
      }
    },
    {
      "cell_type": "code",
      "source": [
        "import cv2\n",
        "from google.colab.patches import cv2_imshow\n",
        "\n",
        "img= cv2.imread(\"/content/download.jpg\")\n",
        "img"
      ],
      "metadata": {
        "id": "ZZztE9ZfB7Xi"
      },
      "execution_count": null,
      "outputs": []
    },
    {
      "cell_type": "code",
      "source": [
        "gray= cv2.cvtColor(img, cv2.COLOR_BGR2GRAY)\n",
        "cv2_imshow(gray)\n",
        "cv2.waitKey(0)\n",
        "cv2.destroyAllWindows()"
      ],
      "metadata": {
        "id": "AFRwRlWDDWHo"
      },
      "execution_count": null,
      "outputs": []
    },
    {
      "cell_type": "code",
      "source": [
        "im = cv2.rotate(img,cv2.ROTATE_90_CLOCKWISE)\n",
        "cv2_imshow(im)"
      ],
      "metadata": {
        "id": "CdLQUSqDE-pF"
      },
      "execution_count": null,
      "outputs": []
    },
    {
      "cell_type": "code",
      "source": [],
      "metadata": {
        "id": "HgHLzvTrFDbI"
      },
      "execution_count": null,
      "outputs": []
    }
  ]
}