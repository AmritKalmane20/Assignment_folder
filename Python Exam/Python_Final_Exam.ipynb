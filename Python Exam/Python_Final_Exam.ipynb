{
  "nbformat": 4,
  "nbformat_minor": 0,
  "metadata": {
    "colab": {
      "private_outputs": true,
      "provenance": []
    },
    "kernelspec": {
      "name": "python3",
      "display_name": "Python 3"
    },
    "language_info": {
      "name": "python"
    }
  },
  "cells": [
    {
      "cell_type": "markdown",
      "source": [
        "# **Program 1**"
      ],
      "metadata": {
        "id": "_UacBT1egz1Y"
      }
    },
    {
      "cell_type": "code",
      "execution_count": null,
      "metadata": {
        "id": "PgJOW1OSfA4G"
      },
      "outputs": [],
      "source": [
        "# Define a 4x4 matrix\n",
        "matrix = [\n",
        "    [1, 2, 3, 4],\n",
        "    [5, 6, 7, 8],\n",
        "    [9, 10, 11, 12],\n",
        "    [13, 14, 15, 16]\n",
        "]\n",
        "\n",
        "# Print the matrix\n",
        "for row in matrix:\n",
        "    print(row)"
      ]
    },
    {
      "cell_type": "markdown",
      "source": [
        "# **Program 2**"
      ],
      "metadata": {
        "id": "qCvi3iTHg3Zg"
      }
    },
    {
      "cell_type": "code",
      "source": [
        "# Input: List of numbers from the user\n",
        "numbers = list(map(int, input(\"Enter numbers separated by space: \").split()))\n",
        "\n",
        "# Find odd numbers\n",
        "odd_numbers = [num for num in numbers if num % 2 != 0]\n",
        "\n",
        "# Print odd numbers\n",
        "print(\"Odd numbers:\", odd_numbers)"
      ],
      "metadata": {
        "id": "2J-fn2ZbfMX2"
      },
      "execution_count": null,
      "outputs": []
    },
    {
      "cell_type": "markdown",
      "source": [
        "# **Program 3**"
      ],
      "metadata": {
        "id": "QWWi0rk2g9W7"
      }
    },
    {
      "cell_type": "code",
      "source": [
        "class Employee:\n",
        "    def __init__(self, name, role, salary):\n",
        "        self.name = name\n",
        "        self.role = role\n",
        "        self.salary = salary\n",
        "\n",
        "    def calculate_annual_salary(self):\n",
        "        return self.salary * 12\n",
        "\n",
        "# Example usage:\n",
        "if __name__ == \"__main__\":\n",
        "    # Creating an instance of Employee\n",
        "    employee = Employee(\"Dhanush\", \"Software Engineer\", 5000)\n",
        "\n",
        "    # Calculating the annual salary\n",
        "    annual_salary = employee.calculate_annual_salary()\n",
        "\n",
        "    # Printing the details\n",
        "    print(f\"Employee Name: {employee.name}\")\n",
        "    print(f\"Role: {employee.role}\")\n",
        "    print(f\"Monthly Salary: ₹{employee.salary}\")\n",
        "    print(f\"Annual Salary: ₹{annual_salary}\")"
      ],
      "metadata": {
        "id": "40ZkvYdIg9B2"
      },
      "execution_count": null,
      "outputs": []
    },
    {
      "cell_type": "markdown",
      "source": [
        "# **Program 5**"
      ],
      "metadata": {
        "id": "9fwTzrtdhOlv"
      }
    },
    {
      "cell_type": "code",
      "source": [
        "import numpy as np\n",
        "\n",
        "# Example dataset of exam scores\n",
        "scores = np.array([78, 85, 90, 95, 88, 76, 92, 89, 84, 91])\n",
        "\n",
        "# Calculate mean and median\n",
        "mean = np.mean(scores)\n",
        "median = np.median(scores)\n",
        "\n",
        "# Calculate standard deviation and variance\n",
        "std_dev = np.std(scores)\n",
        "variance = np.var(scores)\n",
        "\n",
        "print(f\"Mean: {mean}\")\n",
        "print(f\"Median: {median}\")\n",
        "print(f\"Standard Deviation: {std_dev}\")\n",
        "print(f\"Variance: {variance}\")"
      ],
      "metadata": {
        "id": "tMCA7RNuhRd2"
      },
      "execution_count": null,
      "outputs": []
    },
    {
      "cell_type": "markdown",
      "source": [
        "# **Program 7**"
      ],
      "metadata": {
        "id": "7m8cR9Ocgvti"
      }
    },
    {
      "cell_type": "code",
      "source": [
        "from PIL import Image\n",
        "\n",
        "# Load the image\n",
        "image = Image.open('/content/IMG_9262.JPG')\n",
        "\n",
        "# Convert to grayscale\n",
        "gray_image = image.convert('L')\n",
        "\n",
        "# Rotate 90 degrees clockwise\n",
        "rotated_image = gray_image.rotate(-90)\n",
        "\n",
        "# Save and show the image\n",
        "rotated_image.save('rotated_image.jpg')\n",
        "rotated_image.show()"
      ],
      "metadata": {
        "id": "HMtRf_hxfXpX"
      },
      "execution_count": null,
      "outputs": []
    },
    {
      "cell_type": "markdown",
      "source": [
        "# **Program 9**"
      ],
      "metadata": {
        "id": "yEYhJgy1ill7"
      }
    },
    {
      "cell_type": "code",
      "source": [
        "import numpy as np\n",
        "\n",
        "# Define two matrices\n",
        "A = np.array([[1, 2, 3], [4, 5, 6]])\n",
        "B = np.array([[7, 8], [9, 10], [11, 12]])\n",
        "\n",
        "# Multiply the matrices\n",
        "result = np.dot(A, B)\n",
        "\n",
        "# Check the order of the resultant matrix\n",
        "order = result.shape\n",
        "\n",
        "print(\"Resultant Matrix:\")\n",
        "print(result)\n",
        "print(f\"Order of the Resultant Matrix: {order}\")"
      ],
      "metadata": {
        "id": "fNH6y8g4gWl9"
      },
      "execution_count": null,
      "outputs": []
    }
  ]
}
