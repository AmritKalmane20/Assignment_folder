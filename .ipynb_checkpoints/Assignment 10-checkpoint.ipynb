{
 "cells": [
  {
   "cell_type": "markdown",
   "id": "0e2a0eed-b978-4bb6-a149-238642f55aed",
   "metadata": {},
   "source": [
    "# Assignment 10:~\n",
    "## Task1: Create 5 different classes of real world object with 4 properties in each class and call function from each class to print the attribute of that specific class."
   ]
  },
  {
   "cell_type": "code",
   "execution_count": 27,
   "id": "82cc1147-c46a-434f-be9b-6e7c2d90e6a9",
   "metadata": {},
   "outputs": [
    {
     "name": "stdout",
     "output_type": "stream",
     "text": [
      "WE HAVE rough book, WHERE MANY STUDENTS USE IT AND ALSO WE HAVE register book,\n",
      "WHERE MANY BUSINESS PEOPLE USE IT FOR ACCOUNTS AND DATA ENTRY AND HENCE WE ALSO HAVE spiral book,\n",
      " IN THE END OF THE SALE WE HAVE king size book.\n"
     ]
    }
   ],
   "source": [
    "# 1.\n",
    "\n",
    "class Book:   \n",
    "    rough_book=''  \n",
    "    register_book=0   \n",
    "    spiral_book=0  \n",
    "    king_size_book=0   \n",
    "    \n",
    "    def material(self):       \n",
    "        print(f'WE HAVE {self.rough_book}, WHERE MANY STUDENTS USE IT AND ALSO WE HAVE {self.register_book},') \n",
    "        print(f'WHERE MANY BUSINESS PEOPLE USE IT FOR ACCOUNTS AND DATA ENTRY AND HENCE WE ALSO HAVE {self.spiral_book},')   \n",
    "        print(f' IN THE END OF THE SALE WE HAVE {self.king_size_book}.') \n",
    "#create object \n",
    "our_product=Book()\n",
    "\n",
    "#object initialization \n",
    "our_product.rough_book= 'rough book'\n",
    "our_product.register_book= 'register book'\n",
    "our_product.spiral_book= 'spiral book'\n",
    "our_product.king_size_book= 'king size book'\n",
    "\n",
    "our_product.material()"
   ]
  },
  {
   "cell_type": "code",
   "execution_count": null,
   "id": "ad90069e-07aa-4826-bf4f-6d8fcd55a505",
   "metadata": {},
   "outputs": [],
   "source": []
  }
 ],
 "metadata": {
  "kernelspec": {
   "display_name": "Python 3 (ipykernel)",
   "language": "python",
   "name": "python3"
  },
  "language_info": {
   "codemirror_mode": {
    "name": "ipython",
    "version": 3
   },
   "file_extension": ".py",
   "mimetype": "text/x-python",
   "name": "python",
   "nbconvert_exporter": "python",
   "pygments_lexer": "ipython3",
   "version": "3.11.5"
  }
 },
 "nbformat": 4,
 "nbformat_minor": 5
}
